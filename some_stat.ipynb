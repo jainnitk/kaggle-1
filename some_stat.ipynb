{
 "cells": [
  {
   "cell_type": "code",
   "execution_count": 73,
   "metadata": {},
   "outputs": [],
   "source": [
    "import gzip\n",
    "import pandas as pd\n",
    "import seaborn\n",
    "import matplotlib.pyplot as plt\n",
    "from collections import Counter\n",
    "import operator\n",
    "import numpy as np"
   ]
  },
  {
   "cell_type": "code",
   "execution_count": 65,
   "metadata": {},
   "outputs": [],
   "source": [
    "data = pd.read_csv(\"/Users/kfedorenko/.kaggle/competitions/avito-demand-prediction/train.csv.zip\")"
   ]
  },
  {
   "cell_type": "code",
   "execution_count": 100,
   "metadata": {},
   "outputs": [],
   "source": [
    "test = pd.read_csv(\"/Users/kfedorenko/.kaggle/competitions/avito-demand-prediction/test.csv.zip\")"
   ]
  },
  {
   "cell_type": "code",
   "execution_count": 101,
   "metadata": {},
   "outputs": [
    {
     "data": {
      "text/plain": [
       "(508438, 17)"
      ]
     },
     "execution_count": 101,
     "metadata": {},
     "output_type": "execute_result"
    }
   ],
   "source": [
    "test.shape"
   ]
  },
  {
   "cell_type": "code",
   "execution_count": 17,
   "metadata": {},
   "outputs": [
    {
     "data": {
      "text/plain": [
       "Text(0.5,1,'Target variable')"
      ]
     },
     "execution_count": 17,
     "metadata": {},
     "output_type": "execute_result"
    },
    {
     "data": {
      "image/png": "[encoded data removed]",
      "text/plain": [
       "<Figure size 432x288 with 1 Axes>"
      ]
     },
     "metadata": {},
     "output_type": "display_data"
    }
   ],
   "source": [
    "plt.hist(data[\"deal_probability\"], bins=20)\n",
    "plt.title(\"Target variable\")"
   ]
  },
  {
   "cell_type": "code",
   "execution_count": 43,
   "metadata": {},
   "outputs": [],
   "source": [
    "def stat(column_name):\n",
    "    stat_dict = Counter(data[column_name])\n",
    "    sorted_stat_dict = sorted(stat_dict.items(), key = operator.itemgetter(1), reverse=True)\n",
    "    print \"Number of unique values %d\" % len(stat_dict)\n",
    "    for item in sorted_stat_dict[:min(len(stat_dict), 50)]:\n",
    "        print item[0], item[1], item[1]*100./1503424  \n",
    "    return sorted_stat_dict"
   ]
  },
  {
   "cell_type": "code",
   "execution_count": 44,
   "metadata": {},
   "outputs": [
    {
     "name": "stdout",
     "output_type": "stream",
     "text": [
      "Number of unique values 28\n",
      "Краснодарский край 141416 9.40626197267\n",
      "Свердловская область 94475 6.28398908092\n",
      "Ростовская область 89995 5.98600261802\n",
      "Татарстан 81284 5.40659188625\n",
      "Челябинская область 78339 5.2107056958\n",
      "Нижегородская область 73643 4.89835202844\n",
      "Самарская область 73407 4.88265452727\n",
      "Башкортостан 68291 4.54236462901\n",
      "Пермский край 62704 4.17074624324\n",
      "Новосибирская область 62486 4.15624600911\n",
      "Красноярский край 53442 3.55468583713\n",
      "Саратовская область 49645 3.30212900685\n",
      "Волгоградская область 48998 3.25909390831\n",
      "Кемеровская область 44635 2.96888968115\n",
      "Воронежская область 44116 2.93436848155\n",
      "Иркутская область 44030 2.9286482057\n",
      "Омская область 42939 2.8560805202\n",
      "Алтайский край 41520 2.76169596867\n",
      "Ставропольский край 39187 2.60651685752\n",
      "Тюменская область 35411 2.35535683879\n",
      "Ярославская область 32814 2.18261781108\n",
      "Калининградская область 32756 2.17875995062\n",
      "Оренбургская область 29303 1.94908422375\n",
      "Белгородская область 28868 1.92015027032\n",
      "Ханты-Мансийский АО 28709 1.90957441148\n",
      "Удмуртия 28537 1.89813385978\n",
      "Владимирская область 26741 1.77867321527\n",
      "Тульская область 25733 1.71162626112\n"
     ]
    }
   ],
   "source": [
    "regions_stat = stat(\"region\")"
   ]
  },
  {
   "cell_type": "code",
   "execution_count": 45,
   "metadata": {},
   "outputs": [
    {
     "name": "stdout",
     "output_type": "stream",
     "text": [
      "Number of unique values 1733\n",
      "Краснодар 63638 4.23287109957\n",
      "Екатеринбург 63602 4.23047656549\n",
      "Новосибирск 56929 3.78662306841\n",
      "Ростов-на-Дону 52323 3.48025573624\n",
      "Нижний Новгород 52010 3.45943659274\n",
      "Челябинск 48380 3.21798773999\n",
      "Пермь 46720 3.10757311311\n",
      "Казань 46663 3.10378176749\n",
      "Самара 41875 2.78530873526\n",
      "Омск 41412 2.75451236644\n",
      "Уфа 41355 2.75072102082\n",
      "Красноярск 37932 2.52304073901\n",
      "Воронеж 36404 2.42140607041\n",
      "Волгоград 33463 2.2257859393\n",
      "Саратов 31977 2.12694489379\n",
      "Тюмень 30451 2.02544325486\n",
      "Калининград 28490 1.89500766251\n",
      "Барнаул 27460 1.82649738198\n",
      "Ярославль 25098 1.6693893406\n",
      "Иркутск 24659 1.64018932783\n",
      "Оренбург 22561 1.50064120301\n",
      "Сочи 22289 1.48254916777\n",
      "Ижевск 21972 1.46146396492\n",
      "Тольятти 20831 1.38557053765\n",
      "Кемерово 18216 1.2116342429\n",
      "Белгород 17747 1.18043878507\n",
      "Тула 16136 1.07328338513\n",
      "Ставрополь 16135 1.07321687029\n",
      "Набережные Челны 15395 1.02399589204\n",
      "Новокузнецк 13769 0.915842769571\n",
      "Владимир 13377 0.889768954068\n",
      "Сургут 11684 0.777159337619\n",
      "Магнитогорск 11562 0.769044527691\n",
      "Нижний Тагил 9213 0.612801179175\n",
      "Новороссийск 8601 0.572094099868\n",
      "Таганрог 8591 0.571428951513\n",
      "Стерлитамак 7490 0.498196117662\n",
      "Волжский 7364 0.489815248393\n",
      "Дзержинск 7164 0.476512281299\n",
      "Энгельс 6950 0.462278106509\n",
      "Бийск 6313 0.419908156315\n",
      "Ангарск 6192 0.411859861223\n",
      "Анапа 5789 0.385054382529\n",
      "Братск 5704 0.379400621515\n",
      "Нижневартовск 5353 0.356053914265\n",
      "Пятигорск 5127 0.341021561449\n",
      "Старый Оскол 5033 0.334769166915\n",
      "Нижнекамск 4951 0.329314950407\n",
      "Балаково 4914 0.326853901494\n",
      "Шахты 4729 0.314548656932\n"
     ]
    }
   ],
   "source": [
    "city_stat = stat(\"city\")"
   ]
  },
  {
   "cell_type": "code",
   "execution_count": 47,
   "metadata": {},
   "outputs": [
    {
     "name": "stdout",
     "output_type": "stream",
     "text": [
      "Number of unique values 9\n",
      "Личные вещи 697623 46.4022790643\n",
      "Для дома и дачи 178823 11.8943824231\n",
      "Бытовая электроника 173008 11.5075986548\n",
      "Недвижимость 153190 10.1894076455\n",
      "Хобби и отдых 86011 5.72100751352\n",
      "Транспорт 79839 5.310477949\n",
      "Услуги 64385 4.28255768167\n",
      "Животные 52470 3.49003341705\n",
      "Для бизнеса 18075 1.2022556511\n"
     ]
    }
   ],
   "source": [
    "parent_cat_name_stat = stat(\"parent_category_name\")"
   ]
  },
  {
   "cell_type": "code",
   "execution_count": 48,
   "metadata": {},
   "outputs": [
    {
     "name": "stdout",
     "output_type": "stream",
     "text": [
      "Number of unique values 47\n",
      "Одежда, обувь, аксессуары 282753 18.8072692733\n",
      "Детская одежда и обувь 270359 17.9828844025\n",
      "Товары для детей и игрушки 99747 6.63465529352\n",
      "Квартиры 83670 5.56529628368\n",
      "Телефоны 65944 4.38625431016\n",
      "Мебель и интерьер 65035 4.32579232472\n",
      "Предложение услуг 64385 4.28255768167\n",
      "Автомобили 62494 4.15677812779\n",
      "Ремонт и строительство 56201 3.73820026819\n",
      "Бытовая техника 33705 2.24188252948\n",
      "Товары для компьютера 29565 1.96651111064\n",
      "Дома, дачи, коттеджи 29244 1.94515984845\n",
      "Красота и здоровье 29198 1.94210016602\n",
      "Аудио и видео 27036 1.79829509174\n",
      "Спорт и отдых 24881 1.6549556213\n",
      "Коллекционирование 24346 1.61937018433\n",
      "Оборудование для бизнеса 16047 1.06736356477\n",
      "Земельные участки 16038 1.06676493125\n",
      "Часы и украшения 15566 1.03536992891\n",
      "Книги и журналы 11819 0.786138840407\n",
      "Собаки 11612 0.772370269465\n",
      "Игры, приставки и программы 11167 0.742771167681\n",
      "Другие животные 11040 0.734323783577\n",
      "Велосипеды 10638 0.707584819718\n",
      "Ноутбуки 10297 0.684903260823\n",
      "Кошки 9951 0.661889127751\n",
      "Грузовики и спецтехника 9394 0.624840364395\n",
      "Посуда и товары для кухни 9076 0.603688646716\n",
      "Растения 9025 0.600296390107\n",
      "Планшеты и электронные книги 8624 0.573623941084\n",
      "Товары для животных 8580 0.570697288323\n",
      "Комнаты 8512 0.566174279511\n",
      "Фототехника 8345 0.555066301988\n",
      "Коммерческая недвижимость 8305 0.552405708569\n",
      "Гаражи и машиноместа 7304 0.485824358265\n",
      "Музыкальные инструменты 6695 0.445316823464\n",
      "Оргтехника и расходники 6580 0.437667617385\n",
      "Птицы 6447 0.428821144268\n",
      "Продукты питания 5781 0.384522263846\n",
      "Мотоциклы и мототехника 5771 0.383857115491\n",
      "Настольные компьютеры 5450 0.362505853306\n",
      "Аквариум 4840 0.321931803669\n",
      "Охота и рыбалка 4524 0.300913115661\n",
      "Билеты и путешествия 3108 0.206728108637\n",
      "Водный транспорт 2180 0.145002341322\n",
      "Готовый бизнес 2028 0.134892086331\n",
      "Недвижимость за рубежом 117 0.00778223574986\n"
     ]
    }
   ],
   "source": [
    "cat_stat = stat(\"category_name\")"
   ]
  },
  {
   "cell_type": "code",
   "execution_count": 50,
   "metadata": {},
   "outputs": [
    {
     "name": "stdout",
     "output_type": "stream",
     "text": [
      "Number of unique values 372\n",
      "Женская одежда 226289 15.0515756034\n",
      "Для девочек 151979 10.1088581797\n",
      "Для мальчиков 117772 7.83358520284\n",
      "Продам 113764 7.56699374228\n",
      "nan 61576 4.09571750883\n",
      "С пробегом 61024 4.05900131965\n",
      "Аксессуары 38568 2.56534417436\n",
      "Мужская одежда 35716 2.37564386361\n",
      "Другое 27874 1.85403452386\n",
      "Игрушки 26442 1.75878527947\n",
      "Детские коляски 26248 1.74588140139\n",
      "Сдам 23535 1.56542665276\n",
      "Ремонт, строительство 21444 1.4263441318\n",
      "Стройматериалы 20197 1.34340013197\n",
      "iPhone 18381 1.22260919075\n",
      "Кровати, диваны и кресла 17419 1.15862191903\n",
      "Инструменты 15904 1.0578519433\n",
      "Для кухни 15721 1.04567972841\n",
      "Комплектующие 15085 1.00337629305\n",
      "Детская мебель 14251 0.947902920267\n",
      "Шкафы и комоды 11417 0.759399876548\n",
      "Приборы и аксессуары 11200 0.744966157252\n",
      "Для дома 10064 0.669405304159\n",
      "Транспорт, перевозки 9689 0.644462240858\n",
      "Товары для кормления 8543 0.568236239411\n",
      "Samsung 8330 0.554068579456\n",
      "Сниму 8270 0.550077689328\n",
      "Книги 8081 0.537506385424\n",
      "Телевизоры и проекторы 7729 0.514093163339\n",
      "Велосипеды и самокаты 7195 0.478574241199\n",
      "Предметы интерьера, искусство 7109 0.472853965348\n",
      "Другая 7029 0.467532778511\n",
      "Косметика 6636 0.441392448172\n",
      "Постельные принадлежности 6596 0.438731854753\n",
      "С/х животные 6363 0.423233898089\n",
      "Столы и стулья 6197 0.412192435401\n",
      "Планшеты 6166 0.410130475501\n",
      "Фитнес и тренажёры 6096 0.405474437018\n",
      "Куплю 6024 0.400685368865\n",
      "Посуда 5995 0.398756438636\n",
      "Сантехника и сауна 5779 0.384389234175\n",
      "Часы 5685 0.378136839641\n",
      "Монеты 5619 0.3737468605\n",
      "Ювелирные изделия 5597 0.372283534119\n",
      "Игровые приставки 5377 0.357650270316\n",
      "Парфюмерия 5145 0.342218828488\n",
      "Автомобильные кресла 5113 0.340090353753\n",
      "Игры для приставок 5089 0.338493997701\n",
      "Красота, здоровье 5020 0.333904474054\n",
      "Двери 4973 0.330778276787\n"
     ]
    }
   ],
   "source": [
    "param_1_stat = stat(\"param_1\")"
   ]
  },
  {
   "cell_type": "code",
   "execution_count": 51,
   "metadata": {},
   "outputs": [
    {
     "name": "stdout",
     "output_type": "stream",
     "text": [
      "Number of unique values 272\n",
      "nan 654542 43.5367534375\n",
      "Обувь 150450 10.0071569963\n",
      "Верхняя одежда 141860 9.43579455962\n",
      "Платья и юбки 69483 4.62165031289\n",
      "Другое 36284 2.41342429015\n",
      "Трикотаж 31684 2.107456047\n",
      "Брюки 25807 1.71654835895\n",
      "1 23426 1.55817653569\n",
      "2 22921 1.52458654378\n",
      "На длительный срок 22096 1.46971180452\n",
      "Дом 20550 1.36687986889\n",
      "ВАЗ (LADA) 19442 1.29318143119\n",
      "Комбинезоны и боди 17633 1.17285609382\n",
      "3 13006 0.865091950109\n",
      "Поселений (ИЖС) 10611 0.705788919161\n",
      "Пиджаки и костюмы 10329 0.687031735558\n",
      "Рубашки и блузки 10079 0.670403026691\n",
      "Шапки, варежки, шарфы 9389 0.624507790218\n",
      "Джинсы 9141 0.608012111021\n",
      "Гараж 6954 0.462544165851\n",
      "Чехлы и плёнки 6886 0.458021157039\n",
      "Строительство домов, коттеджей 6635 0.441325933336\n",
      "Дача 6272 0.417181048061\n",
      "Стиральные машины 5602 0.372616108297\n",
      "Отделочные работы 5546 0.368891277511\n",
      "Свадебные платья 5396 0.35891405219\n",
      "Холодильники и морозильные камеры 5283 0.351397875782\n",
      "Сельхозназначения (СНТ, ДНП) 4743 0.315479864629\n",
      "Мелкая кухонная техника 4594 0.305569154144\n",
      "Топы и футболки 4580 0.304637946448\n",
      "Плиты 3698 0.245971861564\n",
      "Toyota 3293 0.219033353199\n",
      "Коммерческие перевозки 3265 0.217170937806\n",
      "Ремонт квартиры 3136 0.20859052403\n",
      "Трикотаж и футболки 3104 0.206462049295\n",
      "Hyundai 2899 0.192826508024\n",
      "Нижнее бельё 2889 0.19216135967\n",
      "Видеокарты 2833 0.188436528883\n",
      "ГАЗ 2780 0.184911242604\n",
      "Помещение свободного назначения 2721 0.180986867311\n",
      "Chevrolet 2675 0.177927184879\n",
      "Кондиционеры 2620 0.174268868929\n",
      "Оперативная память 2561 0.170344493636\n",
      "Volkswagen 2466 0.164025584266\n",
      "Nissan 2459 0.163559980418\n",
      "Студия 2391 0.159036971606\n",
      "Ford 2334 0.155245625984\n",
      "Торговое помещение 2328 0.154846536972\n",
      "Запчасти 2187 0.14546794517\n",
      "KIA 2140 0.142341747903\n"
     ]
    }
   ],
   "source": [
    "param_2_stat = stat(\"param_2\")"
   ]
  },
  {
   "cell_type": "code",
   "execution_count": 52,
   "metadata": {},
   "outputs": [
    {
     "name": "stdout",
     "output_type": "stream",
     "text": [
      "Number of unique values 1220\n",
      "nan 862565 57.3733690562\n",
      "Вторичка 50615 3.36664839726\n",
      "42–44 (S) 47915 3.18705834149\n",
      "44–46 (M) 35854 2.3848229109\n",
      "86-92 см (1-2 года) 29139 1.93817579073\n",
      "98-104 см (2-4 года) 25774 1.71435336938\n",
      "74-80 см (7-12 мес) 23708 1.5769337193\n",
      "Без размера 19494 1.29664020263\n",
      "40–42 (XS) 19041 1.26650898216\n",
      "110-116 см (4-6 лет) 18896 1.25686433102\n",
      "46–48 (L) 18783 1.24934815461\n",
      "62-68 см (2-6 мес) 16728 1.11266016772\n",
      "38 14884 0.990006811119\n",
      "37 14373 0.956017730195\n",
      "122-128 см (6-8 лет) 13457 0.895090140905\n",
      "36 11599 0.771505576604\n",
      "Новостройка 11000 0.731663190158\n",
      "1 10138 0.674327401984\n",
      "39 10057 0.668939700311\n",
      "48–50 (XL) 10020 0.666478651398\n",
      "134-140 см (8-10 лет) 9688 0.644395726023\n",
      "> 50 (XXL) 9508 0.632423055638\n",
      "146-152 см (10-12 лет) 8940 0.594642629092\n",
      "25 6786 0.451369673492\n",
      "22 6765 0.449972861947\n",
      "23 6695 0.445316823464\n",
      "21 6634 0.441259418501\n",
      "26 6442 0.428488570091\n",
      "2 6070 0.403745051296\n",
      "24 6034 0.401350517219\n",
      "27 5627 0.374278979184\n",
      "< 19 5617 0.373613830829\n",
      "40 5365 0.356852092291\n",
      "28 5136 0.341620194968\n",
      "20 4975 0.330911306458\n",
      "46–48 (M) 4840 0.321931803669\n",
      "48–50 (L) 4574 0.304238857435\n",
      "29 4055 0.269717657826\n",
      "50-56 cм (0-2 мес) 4005 0.266391916053\n",
      "30 3831 0.254818334681\n",
      "Кирпичный 3682 0.244907624197\n",
      "< 35 3568 0.237324932953\n",
      "50–52 (XL) 3322 0.220962283428\n",
      "31 2976 0.197948150355\n",
      "32 2955 0.196551338811\n",
      "На длительный срок 2743 0.182450193691\n",
      "44–46 (S) 2598 0.172805542548\n",
      "42 2539 0.168881167256\n",
      "33 2442 0.162429228215\n",
      "34 2383 0.158504852922\n"
     ]
    }
   ],
   "source": [
    "param_3_stat = stat(\"param_3\")"
   ]
  },
  {
   "cell_type": "code",
   "execution_count": 49,
   "metadata": {},
   "outputs": [
    {
     "name": "stdout",
     "output_type": "stream",
     "text": [
      "Sample size 1503424\n",
      "Users number 771769\n"
     ]
    }
   ],
   "source": [
    "print \"Sample size %d\" % len(set(data[\"item_id\"]))\n",
    "print \"Users number %d\" % len(set(data[\"user_id\"]))\n"
   ]
  },
  {
   "cell_type": "code",
   "execution_count": 96,
   "metadata": {},
   "outputs": [],
   "source": [
    "def rmse(true, predicted):\n",
    "    return np.sqrt(sum((np.array(true) - np.array(predicted))**2)/len(true))"
   ]
  },
  {
   "cell_type": "code",
   "execution_count": 97,
   "metadata": {},
   "outputs": [
    {
     "name": "stdout",
     "output_type": "stream",
     "text": [
      "0.2945788445967741\n"
     ]
    }
   ],
   "source": [
    "zero_prediction_rmse = rmse(data[\"deal_probability\"], np.mean(data[data[\"deal_probability\"]<0.05][ \"deal_probability\"]))\n",
    "print zero_prediction_rmse"
   ]
  },
  {
   "cell_type": "code",
   "execution_count": 173,
   "metadata": {},
   "outputs": [],
   "source": [
    "predicted = []\n",
    "for line in open(\"train_predictions\"):\n",
    "    pred, item_id = line.strip().split()\n",
    "    predicted.append(float(pred))"
   ]
  },
  {
   "cell_type": "code",
   "execution_count": 174,
   "metadata": {},
   "outputs": [
    {
     "data": {
      "text/plain": [
       "0.2825311430198731"
      ]
     },
     "execution_count": 174,
     "metadata": {},
     "output_type": "execute_result"
    }
   ],
   "source": [
    "rmse(data[\"deal_probability\"], predicted)"
   ]
  },
  {
   "cell_type": "markdown",
   "metadata": {},
   "source": [
    "### Price buckets"
   ]
  },
  {
   "cell_type": "code",
   "execution_count": 141,
   "metadata": {},
   "outputs": [
    {
     "data": {
      "text/plain": [
       "(array([2.64852e+05, 1.70000e+01, 0.00000e+00, 0.00000e+00, 0.00000e+00,\n",
       "        0.00000e+00, 0.00000e+00, 0.00000e+00, 0.00000e+00, 2.00000e+00]),\n",
       " array([       0.,  4500500.,  9001000., 13501500., 18002000., 22502500.,\n",
       "        27003000., 31503500., 36004000., 40504500., 45005000.]),\n",
       " <a list of 10 Patch objects>)"
      ]
     },
     "execution_count": 141,
     "metadata": {},
     "output_type": "execute_result"
    },
    {
     "data": {
      "image/png": "[encoded data removed]",
      "text/plain": [
       "<Figure size 432x288 with 1 Axes>"
      ]
     },
     "metadata": {},
     "output_type": "display_data"
    }
   ],
   "source": [
    "plt.hist(data[\"price\"][data[\"price\"][data[\"category_name\"]==cat_stat[1][0]]].dropna()) "
   ]
  },
  {
   "cell_type": "code",
   "execution_count": 153,
   "metadata": {},
   "outputs": [],
   "source": [
    "category_name_map = {}\n",
    "for line in open(\"/Users/kfedorenko/.kaggle/competitions/avito-demand-prediction/category_name_map\"):\n",
    "    splits = line.strip().split(\"*\")\n",
    "    category_name_map[splits[1]] = splits[0]\n",
    "\n",
    "with open(\"/Users/kfedorenko/.kaggle/competitions/avito-demand-prediction/price_buckets\", \"w\") as fout:\n",
    "    for category in cat_stat:\n",
    "        fout.write(category_name_map[category[0]] + \"\\t\" + \",\".join(map(lambda x: str(x), np.percentile(data[\"price\"][data[\"price\"][data[\"category_name\"]==category[0]]].dropna(), [5, 25, 50, 75, 95])))+\"\\n\")"
   ]
  },
  {
   "cell_type": "code",
   "execution_count": null,
   "metadata": {},
   "outputs": [],
   "source": []
  }
 ],
 "metadata": {
  "kernelspec": {
   "display_name": "Python 2",
   "language": "python",
   "name": "python2"
  },
  "language_info": {
   "codemirror_mode": {
    "name": "ipython",
    "version": 2
   },
   "file_extension": ".py",
   "mimetype": "text/x-python",
   "name": "python",
   "nbconvert_exporter": "python",
   "pygments_lexer": "ipython2",
   "version": "2.7.10"
  }
 },
 "nbformat": 4,
 "nbformat_minor": 2
}
